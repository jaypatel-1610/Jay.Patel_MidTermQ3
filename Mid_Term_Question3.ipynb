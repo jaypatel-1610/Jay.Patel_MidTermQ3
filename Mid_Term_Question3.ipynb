{
 "cells": [
  {
   "cell_type": "raw",
   "id": "3041de36-0bb0-405b-a863-ae4d935475f2",
   "metadata": {},
   "source": [
    "In a jupyter notebook solve the following question using python. Please upload the notebook to GitHub and provide the link submission box below.\n",
    "\n",
    "Develop a recursive function tough() that takes two nonnegative integer arguments and outputs a pattern as shown below. Hint: The first argument represents the indentation of the pattern, where the second argument -- always a pattern of 2 indicates the number *s in the longest line of *s in the pattern"
   ]
  },
  {
   "cell_type": "code",
   "execution_count": 16,
   "id": "10795581-59b4-4d9c-852b-19a5d811623e",
   "metadata": {},
   "outputs": [
    {
     "name": "stdin",
     "output_type": "stream",
     "text": [
      "Enter x :  0\n",
      "Enter y :  0\n"
     ]
    }
   ],
   "source": [
    "def tough(indent, number_of_stars):\n",
    "   if num_stars == 0:\n",
    "        return \n",
    "    else:\n",
    "        print(' '*indent + '*'*number_of_stars)\n",
    "        tough(indent, num_stars-2)\n",
    "        print(' '*indent + '*'*number_of_stars)\n",
    "\n",
    "x = int(input(\"Enter x : \"))\n",
    "y = int(input(\"Enter y : \"))\n",
    "\n",
    "if(x >= 0 and y >= 0):\n",
    "    tough(x,y)\n",
    "else:\n",
    "    print(\"Please enter non-negative values\")"
   ]
  },
  {
   "cell_type": "code",
   "execution_count": null,
   "id": "874bb0bf-12b3-4576-aec5-22142e78ebb2",
   "metadata": {},
   "outputs": [],
   "source": []
  }
 ],
 "metadata": {
  "kernelspec": {
   "display_name": "Python 3 (ipykernel)",
   "language": "python",
   "name": "python3"
  },
  "language_info": {
   "codemirror_mode": {
    "name": "ipython",
    "version": 3
   },
   "file_extension": ".py",
   "mimetype": "text/x-python",
   "name": "python",
   "nbconvert_exporter": "python",
   "pygments_lexer": "ipython3",
   "version": "3.12.3"
  }
 },
 "nbformat": 4,
 "nbformat_minor": 5
}
